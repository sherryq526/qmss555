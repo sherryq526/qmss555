{
 "cells": [
  {
   "cell_type": "markdown",
   "metadata": {},
   "source": [
    "# 1.Use urllib or requests package to read this CNBC article through its URL link (Links to an external site.)."
   ]
  },
  {
   "cell_type": "code",
   "execution_count": 8,
   "metadata": {},
   "outputs": [],
   "source": [
    "import requests\n",
    "html = requests.get('https://www.cnbc.com/2019/01/17/netflix-price-hike-helps-disney-upcoming-streaming-service-analyst.html')"
   ]
  },
  {
   "cell_type": "markdown",
   "metadata": {},
   "source": [
    "# 2.Use BeautifulSoup (Links to an external site.) or another HTML parsing package to extract text from the article."
   ]
  },
  {
   "cell_type": "code",
   "execution_count": 26,
   "metadata": {},
   "outputs": [
    {
     "name": "stdout",
     "output_type": "stream",
     "text": [
      "× LOG IN SIGN UP Keep Me Logged In Skip Navigation SIGN IN Pro Watchlist Make It Select USA INTL Markets Pre-Markets U.S. Markets Currencies Cryptocurrency Futures & Commodities Bonds Funds & ETFs Watchlist Business Economy Finance Health & Science Media Real Estate Energy Transportation Industrials Retail Wealth Small Business Investing Invest In You Personal Finance Financial Advisors Trading Nation Options Action ETF Street Buffett Archive Earnings Trader Talk Tech Cybersecurity Enterprise Internet Media Mobile Social Media Venture Capital Tech Guide Politics White House Policy Defense Congress 2020 Elections CNBC TV Live TV Live Audio Latest Video Top Video CEO Interviews Business Day Shows Primetime Shows CNBC World Digital Originals Full Episodes Menu SEARCH QUOTES Markets Pre-Markets U.S. Markets Currencies Cryptocurrency Futures & Commodities Bonds Funds & ETFs Watchlist Business Economy Finance Health & Science Media Real Estate Energy Transportation Industrials Retail Wealth Small Business Investing Invest In You Personal Finance Financial Advisors Trading Nation Options Action ETF Street Buffett Archive Earnings Trader Talk Tech Cybersecurity Enterprise Internet Media Mobile Social Media Venture Capital Tech Guide Politics White House Policy Defense Congress 2020 Elections CNBC TV Live TV Live Audio Latest Video Top Video CEO Interviews Business Day Shows Primetime Shows CNBC World Digital Originals Full Episodes Menu Tech Netflix's price hike is a 'Catch-22'  that actually helps Disney's upcoming streaming service Published Thu, Jan 17 2019 1:04 PM EST Updated Thu, Jan 17 2019 1:42 PM EST Tyler Clifford @_TylerTheTyler_ Key Points Netflix subscription price hike is a \"key dilemma\" that makes future competitors like Disney more viable, New Constructs CEO David Trainer says. However, Aegis Capital's Victory Anthony sees the Netflix price increase as extra money to invest in more original content or pad the bottom line. VIDEO 6:10 06:10 Netflix's decision to raise prices is a Catch-22, says New Constructs' David Trainer Closing Bell Disney will have a competitive advantage over Netflix when the entertainment conglomerate launches a competing video streaming platform later this year, according to Wall Street analyst David Trainer. \"[Disney's] got the ability to merchandise, which is another way to monetize content in a way that Netflix does not have,\" Trainer said on CNBC's \"Closing Bell\" Wednesday. He's chief of the New Constructs research firm. Netflix increased its subscription prices Tuesday, sending the stock up 6.5 percent that day as well. However, Trainer called it a \"key dilemma\" for the company and it \"makes their competitors more viable.\" The dilemma, he explained, is that the streaming company relies too much on its subscribers to generate revenue. \"It's a Catch-22 for a business model that, when you look at the fundamentals, really just doesn't work,\" Trainer alleged. VIDEO 5:21 05:21 Snap should 'take check from anyone who comes knocking', says expert Squawk Alley The Netflix price increase for U.S. subscribers ranges between 13 percent and 18 percent, which Victory Anthony of Aegis Capital sees as a positive, a view generally shared by much of the investment community. \"It's all profit for the price increase and so they can either use that to invest in more original content or they can let that drop down to their down to the bottom line,\" Anthony said on \"Squawk Alley\" Thursday. Aegis put a hold on Neflix at current levels because it's about 8 percent higher than Anthony's price target of $325. The stock was trading steady around $351 midday Thursday, up more than 50 percent since the Christmas Eve washout. Netflix releases its fourth quarter earnings after the bell Thursday. Netflix last reported double-digit user growth, with 58 million U.S. and 78 million international subscribers. Original content aside, Netflix has built its large subscriber base, in part, on licensed content from a number of third-party TV and movie studios that plan to crowd into the video streaming market, which already includes other established online rivals such as Amazon and Hulu. Disney, which agreed to purchase Twenty-First Century Fox assets last summer, said it would pull its movies from Netflix when it launches Disney+ in late 2019 . AT&T 's WarnerMedia announced in October it would release a platform in the fourth quarter of 2019. Apple could be dropping a service this year, Comcast 's NBCUniversal on Monday revealed plans for a free streaming program with ads slated for early 2020. New Constructs' Trainer said Netflix is vulnerable because it's a \"one-trick pony\" with an online distribution system that is not \"defensible.\" The company can keep growing its subscriber base, but it will need to address cash flow, he said. \"You can count on one hand the number of firms that have, over time, successfully monetized original content. It's an expensive, difficult proposition,\" he argued. \"Disney's done it and part of the reason they've done [it] is because they've got better ways of monetizing.\" — Disclosure: NBCUniversal is the parent company of CNBC. Related Tags Movies Streaming services Twenty-First Century Fox Inc Television Media Subscribe to CNBC PRO Licensing & Reprints CNBC Councils Supply Chain Values Advertise With Us Join the CNBC Panel Digital Products News Releases Closed Captioning Corrections About CNBC Internships Site Map Podcasts AdChoices Careers Help Contact News Tips Got a confidential news tip? We want to hear from you. Get In Touch CNBC Newsletters Sign up for free newsletters and get more CNBC delivered to your inbox Sign Up Now Get this delivered to your inbox, and more info about our products and services. Privacy Policy | Do Not Sell My Personal Information | Terms of Service © 2020 CNBC LLC. All Rights Reserved.  A Division of NBCUniversal Data is a real-time snapshot *Data is delayed at least 15 minutes. Global Business and Financial News, Stock Quotes, and Market Data and Analysis. Market Data Terms of Use and Disclaimers Data also provided by \n"
     ]
    }
   ],
   "source": [
    "from bs4 import BeautifulSoup\n",
    "from bs4.element import Comment\n",
    "from urllib import request\n",
    "from nltk import word_tokenize, sent_tokenize, ngrams, pos_tag, RegexpParser\n",
    "\n",
    "def tag_visible(element):\n",
    "    if element.parent.name in ['style', 'script', 'head', 'title', 'meta', '[document]']:\n",
    "        return False\n",
    "    if isinstance(element, Comment):\n",
    "        return False\n",
    "    return True\n",
    "\n",
    "\n",
    "def text_from_html(body):\n",
    "    soup = BeautifulSoup(body, 'html.parser')\n",
    "    texts = soup.findAll(text=True)\n",
    "    visible_texts = filter(tag_visible, texts)  \n",
    "    return u\" \".join(t.strip() for t in visible_texts)\n",
    "\n",
    "html = request.urlopen('https://www.cnbc.com/2019/01/17/netflix-price-hike-helps-disney-upcoming-streaming-service-analyst.html').read()\n",
    "print(text_from_html(html))"
   ]
  },
  {
   "cell_type": "markdown",
   "metadata": {},
   "source": [
    "# 3. Use re (regular expression) package to:"
   ]
  },
  {
   "cell_type": "markdown",
   "metadata": {},
   "source": [
    "Find all matches of $ amounts in the article"
   ]
  },
  {
   "cell_type": "code",
   "execution_count": 27,
   "metadata": {},
   "outputs": [
    {
     "data": {
      "text/plain": [
       "['$325', '$351']"
      ]
     },
     "execution_count": 27,
     "metadata": {},
     "output_type": "execute_result"
    }
   ],
   "source": [
    "import re\n",
    "netflix = text_from_html(html)\n",
    "x = re.findall(r'\\$\\d+', netflix)\n",
    "x"
   ]
  },
  {
   "cell_type": "markdown",
   "metadata": {},
   "source": [
    "Substitute all numbers with # character and print the output"
   ]
  },
  {
   "cell_type": "code",
   "execution_count": 28,
   "metadata": {},
   "outputs": [
    {
     "name": "stdout",
     "output_type": "stream",
     "text": [
      "× LOG IN SIGN UP Keep Me Logged In Skip Navigation SIGN IN Pro Watchlist Make It Select USA INTL Markets Pre-Markets U.S. Markets Currencies Cryptocurrency Futures & Commodities Bonds Funds & ETFs Watchlist Business Economy Finance Health & Science Media Real Estate Energy Transportation Industrials Retail Wealth Small Business Investing Invest In You Personal Finance Financial Advisors Trading Nation Options Action ETF Street Buffett Archive Earnings Trader Talk Tech Cybersecurity Enterprise Internet Media Mobile Social Media Venture Capital Tech Guide Politics White House Policy Defense Congress #### Elections CNBC TV Live TV Live Audio Latest Video Top Video CEO Interviews Business Day Shows Primetime Shows CNBC World Digital Originals Full Episodes Menu SEARCH QUOTES Markets Pre-Markets U.S. Markets Currencies Cryptocurrency Futures & Commodities Bonds Funds & ETFs Watchlist Business Economy Finance Health & Science Media Real Estate Energy Transportation Industrials Retail Wealth Small Business Investing Invest In You Personal Finance Financial Advisors Trading Nation Options Action ETF Street Buffett Archive Earnings Trader Talk Tech Cybersecurity Enterprise Internet Media Mobile Social Media Venture Capital Tech Guide Politics White House Policy Defense Congress #### Elections CNBC TV Live TV Live Audio Latest Video Top Video CEO Interviews Business Day Shows Primetime Shows CNBC World Digital Originals Full Episodes Menu Tech Netflix's price hike is a 'Catch-##'  that actually helps Disney's upcoming streaming service Published Thu, Jan ## #### #:## PM EST Updated Thu, Jan ## #### #:## PM EST Tyler Clifford @_TylerTheTyler_ Key Points Netflix subscription price hike is a \"key dilemma\" that makes future competitors like Disney more viable, New Constructs CEO David Trainer says. However, Aegis Capital's Victory Anthony sees the Netflix price increase as extra money to invest in more original content or pad the bottom line. VIDEO #:## ##:## Netflix's decision to raise prices is a Catch-##, says New Constructs' David Trainer Closing Bell Disney will have a competitive advantage over Netflix when the entertainment conglomerate launches a competing video streaming platform later this year, according to Wall Street analyst David Trainer. \"[Disney's] got the ability to merchandise, which is another way to monetize content in a way that Netflix does not have,\" Trainer said on CNBC's \"Closing Bell\" Wednesday. He's chief of the New Constructs research firm. Netflix increased its subscription prices Tuesday, sending the stock up #.# percent that day as well. However, Trainer called it a \"key dilemma\" for the company and it \"makes their competitors more viable.\" The dilemma, he explained, is that the streaming company relies too much on its subscribers to generate revenue. \"It's a Catch-## for a business model that, when you look at the fundamentals, really just doesn't work,\" Trainer alleged. VIDEO #:## ##:## Snap should 'take check from anyone who comes knocking', says expert Squawk Alley The Netflix price increase for U.S. subscribers ranges between ## percent and ## percent, which Victory Anthony of Aegis Capital sees as a positive, a view generally shared by much of the investment community. \"It's all profit for the price increase and so they can either use that to invest in more original content or they can let that drop down to their down to the bottom line,\" Anthony said on \"Squawk Alley\" Thursday. Aegis put a hold on Neflix at current levels because it's about # percent higher than Anthony's price target of $###. The stock was trading steady around $### midday Thursday, up more than ## percent since the Christmas Eve washout. Netflix releases its fourth quarter earnings after the bell Thursday. Netflix last reported double-digit user growth, with ## million U.S. and ## million international subscribers. Original content aside, Netflix has built its large subscriber base, in part, on licensed content from a number of third-party TV and movie studios that plan to crowd into the video streaming market, which already includes other established online rivals such as Amazon and Hulu. Disney, which agreed to purchase Twenty-First Century Fox assets last summer, said it would pull its movies from Netflix when it launches Disney+ in late #### . AT&T 's WarnerMedia announced in October it would release a platform in the fourth quarter of ####. Apple could be dropping a service this year, Comcast 's NBCUniversal on Monday revealed plans for a free streaming program with ads slated for early ####. New Constructs' Trainer said Netflix is vulnerable because it's a \"one-trick pony\" with an online distribution system that is not \"defensible.\" The company can keep growing its subscriber base, but it will need to address cash flow, he said. \"You can count on one hand the number of firms that have, over time, successfully monetized original content. It's an expensive, difficult proposition,\" he argued. \"Disney's done it and part of the reason they've done [it] is because they've got better ways of monetizing.\" — Disclosure: NBCUniversal is the parent company of CNBC. Related Tags Movies Streaming services Twenty-First Century Fox Inc Television Media Subscribe to CNBC PRO Licensing & Reprints CNBC Councils Supply Chain Values Advertise With Us Join the CNBC Panel Digital Products News Releases Closed Captioning Corrections About CNBC Internships Site Map Podcasts AdChoices Careers Help Contact News Tips Got a confidential news tip? We want to hear from you. Get In Touch CNBC Newsletters Sign up for free newsletters and get more CNBC delivered to your inbox Sign Up Now Get this delivered to your inbox, and more info about our products and services. Privacy Policy | Do Not Sell My Personal Information | Terms of Service © #### CNBC LLC. All Rights Reserved.  A Division of NBCUniversal Data is a real-time snapshot *Data is delayed at least ## minutes. Global Business and Financial News, Stock Quotes, and Market Data and Analysis. Market Data Terms of Use and Disclaimers Data also provided by \n"
     ]
    }
   ],
   "source": [
    "print(re.sub(r'[0-9]','#',netflix))"
   ]
  },
  {
   "cell_type": "markdown",
   "metadata": {},
   "source": [
    "Count (using regular expressions) ”Netflix” and “Disney” mentions "
   ]
  },
  {
   "cell_type": "code",
   "execution_count": 29,
   "metadata": {},
   "outputs": [
    {
     "name": "stdout",
     "output_type": "stream",
     "text": [
      "Netflix: 13\n",
      "Disney: 7\n"
     ]
    }
   ],
   "source": [
    "print('Netflix:', len(re.findall('Netflix', netflix, flags=0)))\n",
    "print('Disney:', len(re.findall('Disney', netflix, flags=0)))"
   ]
  },
  {
   "cell_type": "markdown",
   "metadata": {},
   "source": [
    "# 4.Use NTLK and/or Spacy (Links to an external site.) tokenization features to:"
   ]
  },
  {
   "cell_type": "markdown",
   "metadata": {},
   "source": [
    "Tokenize sentences and words"
   ]
  },
  {
   "cell_type": "code",
   "execution_count": 32,
   "metadata": {},
   "outputs": [
    {
     "name": "stderr",
     "output_type": "stream",
     "text": [
      "[nltk_data] Downloading package punkt to\n",
      "[nltk_data]     C:\\Users\\sherr\\AppData\\Roaming\\nltk_data...\n",
      "[nltk_data]   Unzipping tokenizers\\punkt.zip.\n"
     ]
    },
    {
     "name": "stdout",
     "output_type": "stream",
     "text": [
      "× LOG IN SIGN UP Keep Me Logged In Skip Navigation SIGN IN Pro Watchlist Make It Select USA INTL Markets Pre-Markets U.S. Markets Currencies Cryptocurrency Futures & Commodities Bonds Funds & ETFs Watchlist Business Economy Finance Health & Science Media Real Estate Energy Transportation Industrials Retail Wealth Small Business Investing Invest In You Personal Finance Financial Advisors Trading Nation Options Action ETF Street Buffett Archive Earnings Trader Talk Tech Cybersecurity Enterprise Internet Media Mobile Social Media Venture Capital Tech Guide Politics White House Policy Defense Congress 2020 Elections CNBC TV Live TV Live Audio Latest Video Top Video CEO Interviews Business Day Shows Primetime Shows CNBC World Digital Originals Full Episodes Menu SEARCH QUOTES Markets Pre-Markets U.S. Markets Currencies Cryptocurrency Futures & Commodities Bonds Funds & ETFs Watchlist Business Economy Finance Health & Science Media Real Estate Energy Transportation Industrials Retail Wealth Small Business Investing Invest In You Personal Finance Financial Advisors Trading Nation Options Action ETF Street Buffett Archive Earnings Trader Talk Tech Cybersecurity Enterprise Internet Media Mobile Social Media Venture Capital Tech Guide Politics White House Policy Defense Congress 2020 Elections CNBC TV Live TV Live Audio Latest Video Top Video CEO Interviews Business Day Shows Primetime Shows CNBC World Digital Originals Full Episodes Menu Tech Netflix's price hike is a 'Catch-22'  that actually helps Disney's upcoming streaming service Published Thu, Jan 17 2019 1:04 PM EST Updated Thu, Jan 17 2019 1:42 PM EST Tyler Clifford @_TylerTheTyler_ Key Points Netflix subscription price hike is a \"key dilemma\" that makes future competitors like Disney more viable, New Constructs CEO David Trainer says.\n",
      "\n",
      "However, Aegis Capital's Victory Anthony sees the Netflix price increase as extra money to invest in more original content or pad the bottom line.\n",
      "\n",
      "VIDEO 6:10 06:10 Netflix's decision to raise prices is a Catch-22, says New Constructs' David Trainer Closing Bell Disney will have a competitive advantage over Netflix when the entertainment conglomerate launches a competing video streaming platform later this year, according to Wall Street analyst David Trainer.\n",
      "\n",
      "\"[Disney's] got the ability to merchandise, which is another way to monetize content in a way that Netflix does not have,\" Trainer said on CNBC's \"Closing Bell\" Wednesday.\n",
      "\n",
      "He's chief of the New Constructs research firm.\n",
      "\n",
      "Netflix increased its subscription prices Tuesday, sending the stock up 6.5 percent that day as well.\n",
      "\n",
      "However, Trainer called it a \"key dilemma\" for the company and it \"makes their competitors more viable.\"\n",
      "\n",
      "The dilemma, he explained, is that the streaming company relies too much on its subscribers to generate revenue.\n",
      "\n",
      "\"It's a Catch-22 for a business model that, when you look at the fundamentals, really just doesn't work,\" Trainer alleged.\n",
      "\n",
      "VIDEO 5:21 05:21 Snap should 'take check from anyone who comes knocking', says expert Squawk Alley The Netflix price increase for U.S. subscribers ranges between 13 percent and 18 percent, which Victory Anthony of Aegis Capital sees as a positive, a view generally shared by much of the investment community.\n",
      "\n",
      "\"It's all profit for the price increase and so they can either use that to invest in more original content or they can let that drop down to their down to the bottom line,\" Anthony said on \"Squawk Alley\" Thursday.\n",
      "\n",
      "Aegis put a hold on Neflix at current levels because it's about 8 percent higher than Anthony's price target of $325.\n",
      "\n",
      "The stock was trading steady around $351 midday Thursday, up more than 50 percent since the Christmas Eve washout.\n",
      "\n",
      "Netflix releases its fourth quarter earnings after the bell Thursday.\n",
      "\n",
      "Netflix last reported double-digit user growth, with 58 million U.S. and 78 million international subscribers.\n",
      "\n",
      "Original content aside, Netflix has built its large subscriber base, in part, on licensed content from a number of third-party TV and movie studios that plan to crowd into the video streaming market, which already includes other established online rivals such as Amazon and Hulu.\n",
      "\n",
      "Disney, which agreed to purchase Twenty-First Century Fox assets last summer, said it would pull its movies from Netflix when it launches Disney+ in late 2019 .\n",
      "\n",
      "AT&T 's WarnerMedia announced in October it would release a platform in the fourth quarter of 2019.\n",
      "\n",
      "Apple could be dropping a service this year, Comcast 's NBCUniversal on Monday revealed plans for a free streaming program with ads slated for early 2020.\n",
      "\n",
      "New Constructs' Trainer said Netflix is vulnerable because it's a \"one-trick pony\" with an online distribution system that is not \"defensible.\"\n",
      "\n",
      "The company can keep growing its subscriber base, but it will need to address cash flow, he said.\n",
      "\n",
      "\"You can count on one hand the number of firms that have, over time, successfully monetized original content.\n",
      "\n",
      "It's an expensive, difficult proposition,\" he argued.\n",
      "\n",
      "\"Disney's done it and part of the reason they've done [it] is because they've got better ways of monetizing.\"\n",
      "\n",
      "— Disclosure: NBCUniversal is the parent company of CNBC.\n",
      "\n",
      "Related Tags Movies Streaming services Twenty-First Century Fox Inc Television Media Subscribe to CNBC PRO Licensing & Reprints CNBC Councils Supply Chain Values Advertise With Us Join the CNBC Panel Digital Products News Releases Closed Captioning Corrections About CNBC Internships Site Map Podcasts AdChoices Careers Help Contact News Tips Got a confidential news tip?\n",
      "\n",
      "We want to hear from you.\n",
      "\n",
      "Get In Touch CNBC Newsletters Sign up for free newsletters and get more CNBC delivered to your inbox Sign Up Now Get this delivered to your inbox, and more info about our products and services.\n",
      "\n",
      "Privacy Policy | Do Not Sell My Personal Information | Terms of Service © 2020 CNBC LLC.\n",
      "\n",
      "All Rights Reserved.\n",
      "\n",
      "A Division of NBCUniversal Data is a real-time snapshot *Data is delayed at least 15 minutes.\n",
      "\n",
      "Global Business and Financial News, Stock Quotes, and Market Data and Analysis.\n",
      "\n",
      "Market Data Terms of Use and Disclaimers Data also provided by\n",
      "\n"
     ]
    }
   ],
   "source": [
    "# tokenize sentences\n",
    "import nltk\n",
    "nltk.download('punkt')\n",
    "  \n",
    "sentences = sent_tokenize(netflix)\n",
    "\n",
    "#print(sentences)\n",
    "for sentence in sentences:\n",
    "    print(sentence)\n",
    "    print()"
   ]
  },
  {
   "cell_type": "code",
   "execution_count": 38,
   "metadata": {},
   "outputs": [
    {
     "name": "stdout",
     "output_type": "stream",
     "text": [
      "['×', 'LOG', 'IN', 'SIGN', 'UP', 'Keep', 'Me', 'Logged', 'In', 'Skip', 'Navigation', 'SIGN', 'IN', 'Pro', 'Watchlist', 'Make', 'It', 'Select', 'USA', 'INTL', 'Markets', 'Pre-Markets', 'U.S.', 'Markets', 'Currencies', 'Cryptocurrency', 'Futures', '&', 'Commodities', 'Bonds', 'Funds', '&', 'ETFs', 'Watchlist', 'Business', 'Economy', 'Finance', 'Health', '&', 'Science', 'Media', 'Real', 'Estate', 'Energy', 'Transportation', 'Industrials', 'Retail', 'Wealth', 'Small', 'Business', 'Investing', 'Invest', 'In', 'You', 'Personal', 'Finance', 'Financial', 'Advisors', 'Trading', 'Nation', 'Options', 'Action', 'ETF', 'Street', 'Buffett', 'Archive', 'Earnings', 'Trader', 'Talk', 'Tech', 'Cybersecurity', 'Enterprise', 'Internet', 'Media', 'Mobile', 'Social', 'Media', 'Venture', 'Capital', 'Tech', 'Guide', 'Politics', 'White', 'House', 'Policy', 'Defense', 'Congress', '2020', 'Elections', 'CNBC', 'TV', 'Live', 'TV', 'Live', 'Audio', 'Latest', 'Video', 'Top', 'Video', 'CEO', 'Interviews', 'Business', 'Day', 'Shows', 'Primetime', 'Shows', 'CNBC', 'World', 'Digital', 'Originals', 'Full', 'Episodes', 'Menu', 'SEARCH', 'QUOTES', 'Markets', 'Pre-Markets', 'U.S.', 'Markets', 'Currencies', 'Cryptocurrency', 'Futures', '&', 'Commodities', 'Bonds', 'Funds', '&', 'ETFs', 'Watchlist', 'Business', 'Economy', 'Finance', 'Health', '&', 'Science', 'Media', 'Real', 'Estate', 'Energy', 'Transportation', 'Industrials', 'Retail', 'Wealth', 'Small', 'Business', 'Investing', 'Invest', 'In', 'You', 'Personal', 'Finance', 'Financial', 'Advisors', 'Trading', 'Nation', 'Options', 'Action', 'ETF', 'Street', 'Buffett', 'Archive', 'Earnings', 'Trader', 'Talk', 'Tech', 'Cybersecurity', 'Enterprise', 'Internet', 'Media', 'Mobile', 'Social', 'Media', 'Venture', 'Capital', 'Tech', 'Guide', 'Politics', 'White', 'House', 'Policy', 'Defense', 'Congress', '2020', 'Elections', 'CNBC', 'TV', 'Live', 'TV', 'Live', 'Audio', 'Latest', 'Video', 'Top', 'Video', 'CEO', 'Interviews', 'Business', 'Day', 'Shows', 'Primetime', 'Shows', 'CNBC', 'World', 'Digital', 'Originals', 'Full', 'Episodes', 'Menu', 'Tech', 'Netflix', \"'s\", 'price', 'hike', 'is', 'a', \"'Catch-22\", \"'\", 'that', 'actually', 'helps', 'Disney', \"'s\", 'upcoming', 'streaming', 'service', 'Published', 'Thu', ',', 'Jan', '17', '2019', '1:04', 'PM', 'EST', 'Updated', 'Thu', ',', 'Jan', '17', '2019', '1:42', 'PM', 'EST', 'Tyler', 'Clifford', '@', '_TylerTheTyler_', 'Key', 'Points', 'Netflix', 'subscription', 'price', 'hike', 'is', 'a', '``', 'key', 'dilemma', \"''\", 'that', 'makes', 'future', 'competitors', 'like', 'Disney', 'more', 'viable', ',', 'New', 'Constructs', 'CEO', 'David', 'Trainer', 'says', '.', 'However', ',', 'Aegis', 'Capital', \"'s\", 'Victory', 'Anthony', 'sees', 'the', 'Netflix', 'price', 'increase', 'as', 'extra', 'money', 'to', 'invest', 'in', 'more', 'original', 'content', 'or', 'pad', 'the', 'bottom', 'line', '.', 'VIDEO', '6:10', '06:10', 'Netflix', \"'s\", 'decision', 'to', 'raise', 'prices', 'is', 'a', 'Catch-22', ',', 'says', 'New', 'Constructs', \"'\", 'David', 'Trainer', 'Closing', 'Bell', 'Disney', 'will', 'have', 'a', 'competitive', 'advantage', 'over', 'Netflix', 'when', 'the', 'entertainment', 'conglomerate', 'launches', 'a', 'competing', 'video', 'streaming', 'platform', 'later', 'this', 'year', ',', 'according', 'to', 'Wall', 'Street', 'analyst', 'David', 'Trainer', '.', '``', '[', 'Disney', \"'s\", ']', 'got', 'the', 'ability', 'to', 'merchandise', ',', 'which', 'is', 'another', 'way', 'to', 'monetize', 'content', 'in', 'a', 'way', 'that', 'Netflix', 'does', 'not', 'have', ',', \"''\", 'Trainer', 'said', 'on', 'CNBC', \"'s\", '``', 'Closing', 'Bell', \"''\", 'Wednesday', '.', 'He', \"'s\", 'chief', 'of', 'the', 'New', 'Constructs', 'research', 'firm', '.', 'Netflix', 'increased', 'its', 'subscription', 'prices', 'Tuesday', ',', 'sending', 'the', 'stock', 'up', '6.5', 'percent', 'that', 'day', 'as', 'well', '.', 'However', ',', 'Trainer', 'called', 'it', 'a', '``', 'key', 'dilemma', \"''\", 'for', 'the', 'company', 'and', 'it', '``', 'makes', 'their', 'competitors', 'more', 'viable', '.', \"''\", 'The', 'dilemma', ',', 'he', 'explained', ',', 'is', 'that', 'the', 'streaming', 'company', 'relies', 'too', 'much', 'on', 'its', 'subscribers', 'to', 'generate', 'revenue', '.', '``', 'It', \"'s\", 'a', 'Catch-22', 'for', 'a', 'business', 'model', 'that', ',', 'when', 'you', 'look', 'at', 'the', 'fundamentals', ',', 'really', 'just', 'does', \"n't\", 'work', ',', \"''\", 'Trainer', 'alleged', '.', 'VIDEO', '5:21', '05:21', 'Snap', 'should', \"'take\", 'check', 'from', 'anyone', 'who', 'comes', 'knocking', \"'\", ',', 'says', 'expert', 'Squawk', 'Alley', 'The', 'Netflix', 'price', 'increase', 'for', 'U.S.', 'subscribers', 'ranges', 'between', '13', 'percent', 'and', '18', 'percent', ',', 'which', 'Victory', 'Anthony', 'of', 'Aegis', 'Capital', 'sees', 'as', 'a', 'positive', ',', 'a', 'view', 'generally', 'shared', 'by', 'much', 'of', 'the', 'investment', 'community', '.', '``', 'It', \"'s\", 'all', 'profit', 'for', 'the', 'price', 'increase', 'and', 'so', 'they', 'can', 'either', 'use', 'that', 'to', 'invest', 'in', 'more', 'original', 'content', 'or', 'they', 'can', 'let', 'that', 'drop', 'down', 'to', 'their', 'down', 'to', 'the', 'bottom', 'line', ',', \"''\", 'Anthony', 'said', 'on', '``', 'Squawk', 'Alley', \"''\", 'Thursday', '.', 'Aegis', 'put', 'a', 'hold', 'on', 'Neflix', 'at', 'current', 'levels', 'because', 'it', \"'s\", 'about', '8', 'percent', 'higher', 'than', 'Anthony', \"'s\", 'price', 'target', 'of', '$', '325', '.', 'The', 'stock', 'was', 'trading', 'steady', 'around', '$', '351', 'midday', 'Thursday', ',', 'up', 'more', 'than', '50', 'percent', 'since', 'the', 'Christmas', 'Eve', 'washout', '.', 'Netflix', 'releases', 'its', 'fourth', 'quarter', 'earnings', 'after', 'the', 'bell', 'Thursday', '.', 'Netflix', 'last', 'reported', 'double-digit', 'user', 'growth', ',', 'with', '58', 'million', 'U.S.', 'and', '78', 'million', 'international', 'subscribers', '.', 'Original', 'content', 'aside', ',', 'Netflix', 'has', 'built', 'its', 'large', 'subscriber', 'base', ',', 'in', 'part', ',', 'on', 'licensed', 'content', 'from', 'a', 'number', 'of', 'third-party', 'TV', 'and', 'movie', 'studios', 'that', 'plan', 'to', 'crowd', 'into', 'the', 'video', 'streaming', 'market', ',', 'which', 'already', 'includes', 'other', 'established', 'online', 'rivals', 'such', 'as', 'Amazon', 'and', 'Hulu', '.', 'Disney', ',', 'which', 'agreed', 'to', 'purchase', 'Twenty-First', 'Century', 'Fox', 'assets', 'last', 'summer', ',', 'said', 'it', 'would', 'pull', 'its', 'movies', 'from', 'Netflix', 'when', 'it', 'launches', 'Disney+', 'in', 'late', '2019', '.', 'AT', '&', 'T', \"'s\", 'WarnerMedia', 'announced', 'in', 'October', 'it', 'would', 'release', 'a', 'platform', 'in', 'the', 'fourth', 'quarter', 'of', '2019', '.', 'Apple', 'could', 'be', 'dropping', 'a', 'service', 'this', 'year', ',', 'Comcast', \"'s\", 'NBCUniversal', 'on', 'Monday', 'revealed', 'plans', 'for', 'a', 'free', 'streaming', 'program', 'with', 'ads', 'slated', 'for', 'early', '2020', '.', 'New', 'Constructs', \"'\", 'Trainer', 'said', 'Netflix', 'is', 'vulnerable', 'because', 'it', \"'s\", 'a', '``', 'one-trick', 'pony', \"''\", 'with', 'an', 'online', 'distribution', 'system', 'that', 'is', 'not', '``', 'defensible', '.', \"''\", 'The', 'company', 'can', 'keep', 'growing', 'its', 'subscriber', 'base', ',', 'but', 'it', 'will', 'need', 'to', 'address', 'cash', 'flow', ',', 'he', 'said', '.', '``', 'You', 'can', 'count', 'on', 'one', 'hand', 'the', 'number', 'of', 'firms', 'that', 'have', ',', 'over', 'time', ',', 'successfully', 'monetized', 'original', 'content', '.', 'It', \"'s\", 'an', 'expensive', ',', 'difficult', 'proposition', ',', \"''\", 'he', 'argued', '.', '``', 'Disney', \"'s\", 'done', 'it', 'and', 'part', 'of', 'the', 'reason', 'they', \"'ve\", 'done', '[', 'it', ']', 'is', 'because', 'they', \"'ve\", 'got', 'better', 'ways', 'of', 'monetizing', '.', \"''\", '—', 'Disclosure', ':', 'NBCUniversal', 'is', 'the', 'parent', 'company', 'of', 'CNBC', '.', 'Related', 'Tags', 'Movies', 'Streaming', 'services', 'Twenty-First', 'Century', 'Fox', 'Inc', 'Television', 'Media', 'Subscribe', 'to', 'CNBC', 'PRO', 'Licensing', '&', 'Reprints', 'CNBC', 'Councils', 'Supply', 'Chain', 'Values', 'Advertise', 'With', 'Us', 'Join', 'the', 'CNBC', 'Panel', 'Digital', 'Products', 'News', 'Releases', 'Closed', 'Captioning', 'Corrections', 'About', 'CNBC', 'Internships', 'Site', 'Map', 'Podcasts', 'AdChoices', 'Careers', 'Help', 'Contact', 'News', 'Tips', 'Got', 'a', 'confidential', 'news', 'tip', '?', 'We', 'want', 'to', 'hear', 'from', 'you', '.', 'Get', 'In', 'Touch', 'CNBC', 'Newsletters', 'Sign', 'up', 'for', 'free', 'newsletters', 'and', 'get', 'more', 'CNBC', 'delivered', 'to', 'your', 'inbox', 'Sign', 'Up', 'Now', 'Get', 'this', 'delivered', 'to', 'your', 'inbox', ',', 'and', 'more', 'info', 'about', 'our', 'products', 'and', 'services', '.', 'Privacy', 'Policy', '|', 'Do', 'Not', 'Sell', 'My', 'Personal', 'Information', '|', 'Terms', 'of', 'Service', '©', '2020', 'CNBC', 'LLC', '.', 'All', 'Rights', 'Reserved', '.', 'A', 'Division', 'of', 'NBCUniversal', 'Data', 'is', 'a', 'real-time', 'snapshot', '*Data', 'is', 'delayed', 'at', 'least', '15', 'minutes', '.', 'Global', 'Business', 'and', 'Financial', 'News', ',', 'Stock', 'Quotes', ',', 'and', 'Market', 'Data', 'and', 'Analysis', '.', 'Market', 'Data', 'Terms', 'of', 'Use', 'and', 'Disclaimers', 'Data', 'also', 'provided', 'by']\n"
     ]
    }
   ],
   "source": [
    "#tokenize words\n",
    "tokens = []\n",
    "for sentence in sentences:\n",
    "    tokens+=(word_tokenize(sentence))\n",
    "print(tokens)"
   ]
  },
  {
   "cell_type": "markdown",
   "metadata": {},
   "source": [
    "Remove all English stop words"
   ]
  },
  {
   "cell_type": "code",
   "execution_count": 40,
   "metadata": {},
   "outputs": [
    {
     "name": "stderr",
     "output_type": "stream",
     "text": [
      "[nltk_data] Downloading package stopwords to\n",
      "[nltk_data]     C:\\Users\\sherr\\AppData\\Roaming\\nltk_data...\n",
      "[nltk_data]   Unzipping corpora\\stopwords.zip.\n"
     ]
    },
    {
     "name": "stdout",
     "output_type": "stream",
     "text": [
      "['×', 'LOG', 'SIGN', 'Keep', 'Logged', 'Skip', 'Navigation', 'SIGN', 'Pro', 'Watchlist', 'Make', 'Select', 'USA', 'INTL', 'Markets', 'Pre-Markets', 'U.S.', 'Markets', 'Currencies', 'Cryptocurrency', 'Futures', '&', 'Commodities', 'Bonds', 'Funds', '&', 'ETFs', 'Watchlist', 'Business', 'Economy', 'Finance', 'Health', '&', 'Science', 'Media', 'Real', 'Estate', 'Energy', 'Transportation', 'Industrials', 'Retail', 'Wealth', 'Small', 'Business', 'Investing', 'Invest', 'Personal', 'Finance', 'Financial', 'Advisors', 'Trading', 'Nation', 'Options', 'Action', 'ETF', 'Street', 'Buffett', 'Archive', 'Earnings', 'Trader', 'Talk', 'Tech', 'Cybersecurity', 'Enterprise', 'Internet', 'Media', 'Mobile', 'Social', 'Media', 'Venture', 'Capital', 'Tech', 'Guide', 'Politics', 'White', 'House', 'Policy', 'Defense', 'Congress', '2020', 'Elections', 'CNBC', 'TV', 'Live', 'TV', 'Live', 'Audio', 'Latest', 'Video', 'Top', 'Video', 'CEO', 'Interviews', 'Business', 'Day', 'Shows', 'Primetime', 'Shows', 'CNBC', 'World', 'Digital', 'Originals', 'Full', 'Episodes', 'Menu', 'SEARCH', 'QUOTES', 'Markets', 'Pre-Markets', 'U.S.', 'Markets', 'Currencies', 'Cryptocurrency', 'Futures', '&', 'Commodities', 'Bonds', 'Funds', '&', 'ETFs', 'Watchlist', 'Business', 'Economy', 'Finance', 'Health', '&', 'Science', 'Media', 'Real', 'Estate', 'Energy', 'Transportation', 'Industrials', 'Retail', 'Wealth', 'Small', 'Business', 'Investing', 'Invest', 'Personal', 'Finance', 'Financial', 'Advisors', 'Trading', 'Nation', 'Options', 'Action', 'ETF', 'Street', 'Buffett', 'Archive', 'Earnings', 'Trader', 'Talk', 'Tech', 'Cybersecurity', 'Enterprise', 'Internet', 'Media', 'Mobile', 'Social', 'Media', 'Venture', 'Capital', 'Tech', 'Guide', 'Politics', 'White', 'House', 'Policy', 'Defense', 'Congress', '2020', 'Elections', 'CNBC', 'TV', 'Live', 'TV', 'Live', 'Audio', 'Latest', 'Video', 'Top', 'Video', 'CEO', 'Interviews', 'Business', 'Day', 'Shows', 'Primetime', 'Shows', 'CNBC', 'World', 'Digital', 'Originals', 'Full', 'Episodes', 'Menu', 'Tech', 'Netflix', \"'s\", 'price', 'hike', \"'Catch-22\", \"'\", 'actually', 'helps', 'Disney', \"'s\", 'upcoming', 'streaming', 'service', 'Published', 'Thu', ',', 'Jan', '17', '2019', '1:04', 'PM', 'EST', 'Updated', 'Thu', ',', 'Jan', '17', '2019', '1:42', 'PM', 'EST', 'Tyler', 'Clifford', '@', '_TylerTheTyler_', 'Key', 'Points', 'Netflix', 'subscription', 'price', 'hike', '``', 'key', 'dilemma', \"''\", 'makes', 'future', 'competitors', 'like', 'Disney', 'viable', ',', 'New', 'Constructs', 'CEO', 'David', 'Trainer', 'says', '.', 'However', ',', 'Aegis', 'Capital', \"'s\", 'Victory', 'Anthony', 'sees', 'Netflix', 'price', 'increase', 'extra', 'money', 'invest', 'original', 'content', 'pad', 'bottom', 'line', '.', 'VIDEO', '6:10', '06:10', 'Netflix', \"'s\", 'decision', 'raise', 'prices', 'Catch-22', ',', 'says', 'New', 'Constructs', \"'\", 'David', 'Trainer', 'Closing', 'Bell', 'Disney', 'competitive', 'advantage', 'Netflix', 'entertainment', 'conglomerate', 'launches', 'competing', 'video', 'streaming', 'platform', 'later', 'year', ',', 'according', 'Wall', 'Street', 'analyst', 'David', 'Trainer', '.', '``', '[', 'Disney', \"'s\", ']', 'got', 'ability', 'merchandise', ',', 'another', 'way', 'monetize', 'content', 'way', 'Netflix', ',', \"''\", 'Trainer', 'said', 'CNBC', \"'s\", '``', 'Closing', 'Bell', \"''\", 'Wednesday', '.', \"'s\", 'chief', 'New', 'Constructs', 'research', 'firm', '.', 'Netflix', 'increased', 'subscription', 'prices', 'Tuesday', ',', 'sending', 'stock', '6.5', 'percent', 'day', 'well', '.', 'However', ',', 'Trainer', 'called', '``', 'key', 'dilemma', \"''\", 'company', '``', 'makes', 'competitors', 'viable', '.', \"''\", 'dilemma', ',', 'explained', ',', 'streaming', 'company', 'relies', 'much', 'subscribers', 'generate', 'revenue', '.', '``', \"'s\", 'Catch-22', 'business', 'model', ',', 'look', 'fundamentals', ',', 'really', \"n't\", 'work', ',', \"''\", 'Trainer', 'alleged', '.', 'VIDEO', '5:21', '05:21', 'Snap', \"'take\", 'check', 'anyone', 'comes', 'knocking', \"'\", ',', 'says', 'expert', 'Squawk', 'Alley', 'Netflix', 'price', 'increase', 'U.S.', 'subscribers', 'ranges', '13', 'percent', '18', 'percent', ',', 'Victory', 'Anthony', 'Aegis', 'Capital', 'sees', 'positive', ',', 'view', 'generally', 'shared', 'much', 'investment', 'community', '.', '``', \"'s\", 'profit', 'price', 'increase', 'either', 'use', 'invest', 'original', 'content', 'let', 'drop', 'bottom', 'line', ',', \"''\", 'Anthony', 'said', '``', 'Squawk', 'Alley', \"''\", 'Thursday', '.', 'Aegis', 'put', 'hold', 'Neflix', 'current', 'levels', \"'s\", '8', 'percent', 'higher', 'Anthony', \"'s\", 'price', 'target', '$', '325', '.', 'stock', 'trading', 'steady', 'around', '$', '351', 'midday', 'Thursday', ',', '50', 'percent', 'since', 'Christmas', 'Eve', 'washout', '.', 'Netflix', 'releases', 'fourth', 'quarter', 'earnings', 'bell', 'Thursday', '.', 'Netflix', 'last', 'reported', 'double-digit', 'user', 'growth', ',', '58', 'million', 'U.S.', '78', 'million', 'international', 'subscribers', '.', 'Original', 'content', 'aside', ',', 'Netflix', 'built', 'large', 'subscriber', 'base', ',', 'part', ',', 'licensed', 'content', 'number', 'third-party', 'TV', 'movie', 'studios', 'plan', 'crowd', 'video', 'streaming', 'market', ',', 'already', 'includes', 'established', 'online', 'rivals', 'Amazon', 'Hulu', '.', 'Disney', ',', 'agreed', 'purchase', 'Twenty-First', 'Century', 'Fox', 'assets', 'last', 'summer', ',', 'said', 'would', 'pull', 'movies', 'Netflix', 'launches', 'Disney+', 'late', '2019', '.', '&', \"'s\", 'WarnerMedia', 'announced', 'October', 'would', 'release', 'platform', 'fourth', 'quarter', '2019', '.', 'Apple', 'could', 'dropping', 'service', 'year', ',', 'Comcast', \"'s\", 'NBCUniversal', 'Monday', 'revealed', 'plans', 'free', 'streaming', 'program', 'ads', 'slated', 'early', '2020', '.', 'New', 'Constructs', \"'\", 'Trainer', 'said', 'Netflix', 'vulnerable', \"'s\", '``', 'one-trick', 'pony', \"''\", 'online', 'distribution', 'system', '``', 'defensible', '.', \"''\", 'company', 'keep', 'growing', 'subscriber', 'base', ',', 'need', 'address', 'cash', 'flow', ',', 'said', '.', '``', 'count', 'one', 'hand', 'number', 'firms', ',', 'time', ',', 'successfully', 'monetized', 'original', 'content', '.', \"'s\", 'expensive', ',', 'difficult', 'proposition', ',', \"''\", 'argued', '.', '``', 'Disney', \"'s\", 'done', 'part', 'reason', \"'ve\", 'done', '[', ']', \"'ve\", 'got', 'better', 'ways', 'monetizing', '.', \"''\", '—', 'Disclosure', ':', 'NBCUniversal', 'parent', 'company', 'CNBC', '.', 'Related', 'Tags', 'Movies', 'Streaming', 'services', 'Twenty-First', 'Century', 'Fox', 'Inc', 'Television', 'Media', 'Subscribe', 'CNBC', 'PRO', 'Licensing', '&', 'Reprints', 'CNBC', 'Councils', 'Supply', 'Chain', 'Values', 'Advertise', 'Us', 'Join', 'CNBC', 'Panel', 'Digital', 'Products', 'News', 'Releases', 'Closed', 'Captioning', 'Corrections', 'CNBC', 'Internships', 'Site', 'Map', 'Podcasts', 'AdChoices', 'Careers', 'Help', 'Contact', 'News', 'Tips', 'Got', 'confidential', 'news', 'tip', '?', 'want', 'hear', '.', 'Get', 'Touch', 'CNBC', 'Newsletters', 'Sign', 'free', 'newsletters', 'get', 'CNBC', 'delivered', 'inbox', 'Sign', 'Get', 'delivered', 'inbox', ',', 'info', 'products', 'services', '.', 'Privacy', 'Policy', '|', 'Sell', 'Personal', 'Information', '|', 'Terms', 'Service', '©', '2020', 'CNBC', 'LLC', '.', 'Rights', 'Reserved', '.', 'Division', 'NBCUniversal', 'Data', 'real-time', 'snapshot', '*Data', 'delayed', 'least', '15', 'minutes', '.', 'Global', 'Business', 'Financial', 'News', ',', 'Stock', 'Quotes', ',', 'Market', 'Data', 'Analysis', '.', 'Market', 'Data', 'Terms', 'Use', 'Disclaimers', 'Data', 'also', 'provided']\n"
     ]
    }
   ],
   "source": [
    "import nltk\n",
    "nltk.download('stopwords')\n",
    "from nltk.corpus import stopwords\n",
    "stopwords = stopwords.words('english')\n",
    "\n",
    "no_stopwords = []\n",
    " \n",
    "for word in tokens:\n",
    "    if word.lower() not in stopwords:\n",
    "        no_stopwords.append(word)\n",
    "\n",
    "print(no_stopwords)"
   ]
  },
  {
   "cell_type": "markdown",
   "metadata": {},
   "source": [
    "List and count n-grams for any given input n"
   ]
  },
  {
   "cell_type": "code",
   "execution_count": 46,
   "metadata": {},
   "outputs": [],
   "source": [
    "def listandcount(tokens,n):\n",
    "    for item in ngrams(tokens,n):\n",
    "        print(item)\n",
    "    print(Counter(ngrams(tokens,n)))"
   ]
  },
  {
   "cell_type": "markdown",
   "metadata": {},
   "source": [
    "Lemmatize and deduplicate unigrams into a vocabulary of terms."
   ]
  },
  {
   "cell_type": "code",
   "execution_count": 52,
   "metadata": {},
   "outputs": [
    {
     "name": "stdout",
     "output_type": "stream",
     "text": [
      "Lemmatize and deduplicate unigrams into a dictionary: \n",
      " ['×', 'LOG', 'SIGN', 'Keep', 'Logged', 'Skip', 'Navigation', 'Pro', 'Watchlist', 'Make', 'Select', 'USA', 'INTL', 'Markets', 'Pre-Markets', 'U.S.', 'Currencies', 'Cryptocurrency', 'Futures', '&', 'Commodities', 'Bonds', 'Funds', 'ETFs', 'Business', 'Economy', 'Finance', 'Health', 'Science', 'Media', 'Real', 'Estate', 'Energy', 'Transportation', 'Industrials', 'Retail', 'Wealth', 'Small', 'Investing', 'Invest', 'Personal', 'Financial', 'Advisors', 'Trading', 'Nation', 'Options', 'Action', 'ETF', 'Street', 'Buffett', 'Archive', 'Earnings', 'Trader', 'Talk', 'Tech', 'Cybersecurity', 'Enterprise', 'Internet', 'Mobile', 'Social', 'Venture', 'Capital', 'Guide', 'Politics', 'White', 'House', 'Policy', 'Defense', 'Congress', '2020', 'Elections', 'CNBC', 'TV', 'Live', 'Audio', 'Latest', 'Video', 'Top', 'CEO', 'Interviews', 'Day', 'Shows', 'Primetime', 'World', 'Digital', 'Originals', 'Full', 'Episodes', 'Menu', 'SEARCH', 'QUOTES', 'Netflix', \"'s\", 'price', 'hike', \"'Catch-22\", \"'\", 'actually', 'help', 'Disney', 'upcoming', 'streaming', 'service', 'Published', 'Thu', ',', 'Jan', '17', '2019', '1:04', 'PM', 'EST', 'Updated', '1:42', 'Tyler', 'Clifford', '@', '_TylerTheTyler_', 'Key', 'Points', 'subscription', '``', 'key', 'dilemma', \"''\", 'make', 'future', 'competitor', 'like', 'viable', 'New', 'Constructs', 'David', 'Trainer', 'say', '.', 'However', 'Aegis', 'Victory', 'Anthony', 'see', 'increase', 'extra', 'money', 'invest', 'original', 'content', 'pad', 'bottom', 'line', 'VIDEO', '6:10', '06:10', 'decision', 'raise', 'Catch-22', 'Closing', 'Bell', 'competitive', 'advantage', 'entertainment', 'conglomerate', 'launch', 'competing', 'video', 'platform', 'later', 'year', 'according', 'Wall', 'analyst', '[', ']', 'got', 'ability', 'merchandise', 'another', 'way', 'monetize', 'said', 'Wednesday', 'chief', 'research', 'firm', 'increased', 'Tuesday', 'sending', 'stock', '6.5', 'percent', 'day', 'well', 'called', 'company', 'explained', 'relies', 'much', 'subscriber', 'generate', 'revenue', 'business', 'model', 'look', 'fundamental', 'really', \"n't\", 'work', 'alleged', '5:21', '05:21', 'Snap', \"'take\", 'check', 'anyone', 'come', 'knocking', 'expert', 'Squawk', 'Alley', 'range', '13', '18', 'positive', 'view', 'generally', 'shared', 'investment', 'community', 'profit', 'either', 'use', 'let', 'drop', 'Thursday', 'put', 'hold', 'Neflix', 'current', 'level', '8', 'higher', 'target', '$', '325', 'trading', 'steady', 'around', '351', 'midday', '50', 'since', 'Christmas', 'Eve', 'washout', 'release', 'fourth', 'quarter', 'earnings', 'bell', 'last', 'reported', 'double-digit', 'user', 'growth', '58', 'million', '78', 'international', 'Original', 'aside', 'built', 'large', 'base', 'part', 'licensed', 'number', 'third-party', 'movie', 'studio', 'plan', 'crowd', 'market', 'already', 'includes', 'established', 'online', 'rival', 'Amazon', 'Hulu', 'agreed', 'purchase', 'Twenty-First', 'Century', 'Fox', 'asset', 'summer', 'would', 'pull', 'Disney+', 'late', 'WarnerMedia', 'announced', 'October', 'Apple', 'could', 'dropping', 'Comcast', 'NBCUniversal', 'Monday', 'revealed', 'free', 'program', 'ad', 'slated', 'early', 'vulnerable', 'one-trick', 'pony', 'distribution', 'system', 'defensible', 'keep', 'growing', 'need', 'address', 'cash', 'flow', 'count', 'one', 'hand', 'time', 'successfully', 'monetized', 'expensive', 'difficult', 'proposition', 'argued', 'done', 'reason', \"'ve\", 'better', 'monetizing', '—', 'Disclosure', ':', 'parent', 'Related', 'Tags', 'Movies', 'Streaming', 'Inc', 'Television', 'Subscribe', 'PRO', 'Licensing', 'Reprints', 'Councils', 'Supply', 'Chain', 'Values', 'Advertise', 'Us', 'Join', 'Panel', 'Products', 'News', 'Releases', 'Closed', 'Captioning', 'Corrections', 'Internships', 'Site', 'Map', 'Podcasts', 'AdChoices', 'Careers', 'Help', 'Contact', 'Tips', 'Got', 'confidential', 'news', 'tip', '?', 'want', 'hear', 'Get', 'Touch', 'Newsletters', 'Sign', 'newsletter', 'get', 'delivered', 'inbox', 'info', 'product', 'Privacy', '|', 'Sell', 'Information', 'Terms', 'Service', '©', 'LLC', 'Rights', 'Reserved', 'Division', 'Data', 'real-time', 'snapshot', '*Data', 'delayed', 'least', '15', 'minute', 'Global', 'Stock', 'Quotes', 'Market', 'Analysis', 'Use', 'Disclaimers', 'also', 'provided'] \n",
      "\n"
     ]
    },
    {
     "name": "stderr",
     "output_type": "stream",
     "text": [
      "[nltk_data] Downloading package wordnet to\n",
      "[nltk_data]     C:\\Users\\sherr\\AppData\\Roaming\\nltk_data...\n",
      "[nltk_data]   Package wordnet is already up-to-date!\n"
     ]
    }
   ],
   "source": [
    "import nltk\n",
    "nltk.download('wordnet')\n",
    "from nltk.stem import WordNetLemmatizer\n",
    "wordnet_lemmatizer = WordNetLemmatizer()\n",
    "\n",
    "deduplicate=[]\n",
    "\n",
    "for words in no_stopwords: \n",
    "    if wordnet_lemmatizer.lemmatize(words) not in deduplicate:\n",
    "        deduplicate.append(wordnet_lemmatizer.lemmatize(words))\n",
    "        \n",
    "\n",
    "print('Vocabulary of terms: \\n',deduplicate,'\\n')"
   ]
  },
  {
   "cell_type": "markdown",
   "metadata": {},
   "source": [
    "Print bigrams and trigrams in the first 5 sentences"
   ]
  },
  {
   "cell_type": "code",
   "execution_count": 71,
   "metadata": {},
   "outputs": [
    {
     "name": "stdout",
     "output_type": "stream",
     "text": [
      "× LOG IN SIGN UP Keep Me Logged In Skip Navigation SIGN IN Pro Watchlist Make It Select USA INTL Markets Pre-Markets U.S. Markets Currencies Cryptocurrency Futures & Commodities Bonds Funds & ETFs Watchlist Business Economy Finance Health & Science Media Real Estate Energy Transportation Industrials Retail Wealth Small Business Investing Invest In You Personal Finance Financial Advisors Trading Nation Options Action ETF Street Buffett Archive Earnings Trader Talk Tech Cybersecurity Enterprise Internet Media Mobile Social Media Venture Capital Tech Guide Politics White House Policy Defense Congress 2020 Elections CNBC TV Live TV Live Audio Latest Video Top Video CEO Interviews Business Day Shows Primetime Shows CNBC World Digital Originals Full Episodes Menu SEARCH QUOTES Markets Pre-Markets U.S. Markets Currencies Cryptocurrency Futures & Commodities Bonds Funds & ETFs Watchlist Business Economy Finance Health & Science Media Real Estate Energy Transportation Industrials Retail Wealth Small Business Investing Invest In You Personal Finance Financial Advisors Trading Nation Options Action ETF Street Buffett Archive Earnings Trader Talk Tech Cybersecurity Enterprise Internet Media Mobile Social Media Venture Capital Tech Guide Politics White House Policy Defense Congress 2020 Elections CNBC TV Live TV Live Audio Latest Video Top Video CEO Interviews Business Day Shows Primetime Shows CNBC World Digital Originals Full Episodes Menu Tech Netflix's price hike is a 'Catch-22'  that actually helps Disney's upcoming streaming service Published Thu, Jan 17 2019 1:04 PM EST Updated Thu, Jan 17 2019 1:42 PM EST Tyler Clifford @_TylerTheTyler_ Key Points Netflix subscription price hike is a \"key dilemma\" that makes future competitors like Disney more viable, New Constructs CEO David Trainer says.\n",
      "Bigrams: Counter({('TV', 'Live'): 4, ('Markets', 'Pre-Markets'): 2, ('Pre-Markets', 'U.S.'): 2, ('U.S.', 'Markets'): 2, ('Markets', 'Currencies'): 2, ('Currencies', 'Cryptocurrency'): 2, ('Cryptocurrency', 'Futures'): 2, ('Futures', '&'): 2, ('&', 'Commodities'): 2, ('Commodities', 'Bonds'): 2, ('Bonds', 'Funds'): 2, ('Funds', '&'): 2, ('&', 'ETFs'): 2, ('ETFs', 'Watchlist'): 2, ('Watchlist', 'Business'): 2, ('Business', 'Economy'): 2, ('Economy', 'Finance'): 2, ('Finance', 'Health'): 2, ('Health', '&'): 2, ('&', 'Science'): 2, ('Science', 'Media'): 2, ('Media', 'Real'): 2, ('Real', 'Estate'): 2, ('Estate', 'Energy'): 2, ('Energy', 'Transportation'): 2, ('Transportation', 'Industrials'): 2, ('Industrials', 'Retail'): 2, ('Retail', 'Wealth'): 2, ('Wealth', 'Small'): 2, ('Small', 'Business'): 2, ('Business', 'Investing'): 2, ('Investing', 'Invest'): 2, ('Invest', 'In'): 2, ('In', 'You'): 2, ('You', 'Personal'): 2, ('Personal', 'Finance'): 2, ('Finance', 'Financial'): 2, ('Financial', 'Advisors'): 2, ('Advisors', 'Trading'): 2, ('Trading', 'Nation'): 2, ('Nation', 'Options'): 2, ('Options', 'Action'): 2, ('Action', 'ETF'): 2, ('ETF', 'Street'): 2, ('Street', 'Buffett'): 2, ('Buffett', 'Archive'): 2, ('Archive', 'Earnings'): 2, ('Earnings', 'Trader'): 2, ('Trader', 'Talk'): 2, ('Talk', 'Tech'): 2, ('Tech', 'Cybersecurity'): 2, ('Cybersecurity', 'Enterprise'): 2, ('Enterprise', 'Internet'): 2, ('Internet', 'Media'): 2, ('Media', 'Mobile'): 2, ('Mobile', 'Social'): 2, ('Social', 'Media'): 2, ('Media', 'Venture'): 2, ('Venture', 'Capital'): 2, ('Capital', 'Tech'): 2, ('Tech', 'Guide'): 2, ('Guide', 'Politics'): 2, ('Politics', 'White'): 2, ('White', 'House'): 2, ('House', 'Policy'): 2, ('Policy', 'Defense'): 2, ('Defense', 'Congress'): 2, ('Congress', '2020'): 2, ('2020', 'Elections'): 2, ('Elections', 'CNBC'): 2, ('CNBC', 'TV'): 2, ('Live', 'TV'): 2, ('Live', 'Audio'): 2, ('Audio', 'Latest'): 2, ('Latest', 'Video'): 2, ('Video', 'Top'): 2, ('Top', 'Video'): 2, ('Video', 'CEO'): 2, ('CEO', 'Interviews'): 2, ('Interviews', 'Business'): 2, ('Business', 'Day'): 2, ('Day', 'Shows'): 2, ('Shows', 'Primetime'): 2, ('Primetime', 'Shows'): 2, ('Shows', 'CNBC'): 2, ('CNBC', 'World'): 2, ('World', 'Digital'): 2, ('Digital', 'Originals'): 2, ('Originals', 'Full'): 2, ('Full', 'Episodes'): 2, ('Episodes', 'Menu'): 2, ('price', 'hike'): 2, ('hike', 'is'): 2, ('is', 'a'): 2, ('Thu', ','): 2, (',', 'Jan'): 2, ('Jan', '17'): 2, ('17', '2019'): 2, ('PM', 'EST'): 2, ('×', 'LOG'): 1, ('LOG', 'IN'): 1, ('IN', 'SIGN'): 1, ('SIGN', 'UP'): 1, ('UP', 'Keep'): 1, ('Keep', 'Me'): 1, ('Me', 'Logged'): 1, ('Logged', 'In'): 1, ('In', 'Skip'): 1, ('Skip', 'Navigation'): 1, ('Navigation', 'SIGN'): 1, ('SIGN', 'IN'): 1, ('IN', 'Pro'): 1, ('Pro', 'Watchlist'): 1, ('Watchlist', 'Make'): 1, ('Make', 'It'): 1, ('It', 'Select'): 1, ('Select', 'USA'): 1, ('USA', 'INTL'): 1, ('INTL', 'Markets'): 1, ('Menu', 'SEARCH'): 1, ('SEARCH', 'QUOTES'): 1, ('QUOTES', 'Markets'): 1, ('Menu', 'Tech'): 1, ('Tech', 'Netflix'): 1, ('Netflix', \"'s\"): 1, (\"'s\", 'price'): 1, ('a', \"'Catch-22\"): 1, (\"'Catch-22\", \"'\"): 1, (\"'\", 'that'): 1, ('that', 'actually'): 1, ('actually', 'helps'): 1, ('helps', 'Disney'): 1, ('Disney', \"'s\"): 1, (\"'s\", 'upcoming'): 1, ('upcoming', 'streaming'): 1, ('streaming', 'service'): 1, ('service', 'Published'): 1, ('Published', 'Thu'): 1, ('2019', '1:04'): 1, ('1:04', 'PM'): 1, ('EST', 'Updated'): 1, ('Updated', 'Thu'): 1, ('2019', '1:42'): 1, ('1:42', 'PM'): 1, ('EST', 'Tyler'): 1, ('Tyler', 'Clifford'): 1, ('Clifford', '@'): 1, ('@', '_TylerTheTyler_'): 1, ('_TylerTheTyler_', 'Key'): 1, ('Key', 'Points'): 1, ('Points', 'Netflix'): 1, ('Netflix', 'subscription'): 1, ('subscription', 'price'): 1, ('a', '``'): 1, ('``', 'key'): 1, ('key', 'dilemma'): 1, ('dilemma', \"''\"): 1, (\"''\", 'that'): 1, ('that', 'makes'): 1, ('makes', 'future'): 1, ('future', 'competitors'): 1, ('competitors', 'like'): 1, ('like', 'Disney'): 1, ('Disney', 'more'): 1, ('more', 'viable'): 1, ('viable', ','): 1, (',', 'New'): 1, ('New', 'Constructs'): 1, ('Constructs', 'CEO'): 1, ('CEO', 'David'): 1, ('David', 'Trainer'): 1, ('Trainer', 'says'): 1, ('says', '.'): 1})\n",
      "Trigrams: Counter({('Markets', 'Pre-Markets', 'U.S.'): 2, ('Pre-Markets', 'U.S.', 'Markets'): 2, ('U.S.', 'Markets', 'Currencies'): 2, ('Markets', 'Currencies', 'Cryptocurrency'): 2, ('Currencies', 'Cryptocurrency', 'Futures'): 2, ('Cryptocurrency', 'Futures', '&'): 2, ('Futures', '&', 'Commodities'): 2, ('&', 'Commodities', 'Bonds'): 2, ('Commodities', 'Bonds', 'Funds'): 2, ('Bonds', 'Funds', '&'): 2, ('Funds', '&', 'ETFs'): 2, ('&', 'ETFs', 'Watchlist'): 2, ('ETFs', 'Watchlist', 'Business'): 2, ('Watchlist', 'Business', 'Economy'): 2, ('Business', 'Economy', 'Finance'): 2, ('Economy', 'Finance', 'Health'): 2, ('Finance', 'Health', '&'): 2, ('Health', '&', 'Science'): 2, ('&', 'Science', 'Media'): 2, ('Science', 'Media', 'Real'): 2, ('Media', 'Real', 'Estate'): 2, ('Real', 'Estate', 'Energy'): 2, ('Estate', 'Energy', 'Transportation'): 2, ('Energy', 'Transportation', 'Industrials'): 2, ('Transportation', 'Industrials', 'Retail'): 2, ('Industrials', 'Retail', 'Wealth'): 2, ('Retail', 'Wealth', 'Small'): 2, ('Wealth', 'Small', 'Business'): 2, ('Small', 'Business', 'Investing'): 2, ('Business', 'Investing', 'Invest'): 2, ('Investing', 'Invest', 'In'): 2, ('Invest', 'In', 'You'): 2, ('In', 'You', 'Personal'): 2, ('You', 'Personal', 'Finance'): 2, ('Personal', 'Finance', 'Financial'): 2, ('Finance', 'Financial', 'Advisors'): 2, ('Financial', 'Advisors', 'Trading'): 2, ('Advisors', 'Trading', 'Nation'): 2, ('Trading', 'Nation', 'Options'): 2, ('Nation', 'Options', 'Action'): 2, ('Options', 'Action', 'ETF'): 2, ('Action', 'ETF', 'Street'): 2, ('ETF', 'Street', 'Buffett'): 2, ('Street', 'Buffett', 'Archive'): 2, ('Buffett', 'Archive', 'Earnings'): 2, ('Archive', 'Earnings', 'Trader'): 2, ('Earnings', 'Trader', 'Talk'): 2, ('Trader', 'Talk', 'Tech'): 2, ('Talk', 'Tech', 'Cybersecurity'): 2, ('Tech', 'Cybersecurity', 'Enterprise'): 2, ('Cybersecurity', 'Enterprise', 'Internet'): 2, ('Enterprise', 'Internet', 'Media'): 2, ('Internet', 'Media', 'Mobile'): 2, ('Media', 'Mobile', 'Social'): 2, ('Mobile', 'Social', 'Media'): 2, ('Social', 'Media', 'Venture'): 2, ('Media', 'Venture', 'Capital'): 2, ('Venture', 'Capital', 'Tech'): 2, ('Capital', 'Tech', 'Guide'): 2, ('Tech', 'Guide', 'Politics'): 2, ('Guide', 'Politics', 'White'): 2, ('Politics', 'White', 'House'): 2, ('White', 'House', 'Policy'): 2, ('House', 'Policy', 'Defense'): 2, ('Policy', 'Defense', 'Congress'): 2, ('Defense', 'Congress', '2020'): 2, ('Congress', '2020', 'Elections'): 2, ('2020', 'Elections', 'CNBC'): 2, ('Elections', 'CNBC', 'TV'): 2, ('CNBC', 'TV', 'Live'): 2, ('TV', 'Live', 'TV'): 2, ('Live', 'TV', 'Live'): 2, ('TV', 'Live', 'Audio'): 2, ('Live', 'Audio', 'Latest'): 2, ('Audio', 'Latest', 'Video'): 2, ('Latest', 'Video', 'Top'): 2, ('Video', 'Top', 'Video'): 2, ('Top', 'Video', 'CEO'): 2, ('Video', 'CEO', 'Interviews'): 2, ('CEO', 'Interviews', 'Business'): 2, ('Interviews', 'Business', 'Day'): 2, ('Business', 'Day', 'Shows'): 2, ('Day', 'Shows', 'Primetime'): 2, ('Shows', 'Primetime', 'Shows'): 2, ('Primetime', 'Shows', 'CNBC'): 2, ('Shows', 'CNBC', 'World'): 2, ('CNBC', 'World', 'Digital'): 2, ('World', 'Digital', 'Originals'): 2, ('Digital', 'Originals', 'Full'): 2, ('Originals', 'Full', 'Episodes'): 2, ('Full', 'Episodes', 'Menu'): 2, ('price', 'hike', 'is'): 2, ('hike', 'is', 'a'): 2, ('Thu', ',', 'Jan'): 2, (',', 'Jan', '17'): 2, ('Jan', '17', '2019'): 2, ('×', 'LOG', 'IN'): 1, ('LOG', 'IN', 'SIGN'): 1, ('IN', 'SIGN', 'UP'): 1, ('SIGN', 'UP', 'Keep'): 1, ('UP', 'Keep', 'Me'): 1, ('Keep', 'Me', 'Logged'): 1, ('Me', 'Logged', 'In'): 1, ('Logged', 'In', 'Skip'): 1, ('In', 'Skip', 'Navigation'): 1, ('Skip', 'Navigation', 'SIGN'): 1, ('Navigation', 'SIGN', 'IN'): 1, ('SIGN', 'IN', 'Pro'): 1, ('IN', 'Pro', 'Watchlist'): 1, ('Pro', 'Watchlist', 'Make'): 1, ('Watchlist', 'Make', 'It'): 1, ('Make', 'It', 'Select'): 1, ('It', 'Select', 'USA'): 1, ('Select', 'USA', 'INTL'): 1, ('USA', 'INTL', 'Markets'): 1, ('INTL', 'Markets', 'Pre-Markets'): 1, ('Episodes', 'Menu', 'SEARCH'): 1, ('Menu', 'SEARCH', 'QUOTES'): 1, ('SEARCH', 'QUOTES', 'Markets'): 1, ('QUOTES', 'Markets', 'Pre-Markets'): 1, ('Episodes', 'Menu', 'Tech'): 1, ('Menu', 'Tech', 'Netflix'): 1, ('Tech', 'Netflix', \"'s\"): 1, ('Netflix', \"'s\", 'price'): 1, (\"'s\", 'price', 'hike'): 1, ('is', 'a', \"'Catch-22\"): 1, ('a', \"'Catch-22\", \"'\"): 1, (\"'Catch-22\", \"'\", 'that'): 1, (\"'\", 'that', 'actually'): 1, ('that', 'actually', 'helps'): 1, ('actually', 'helps', 'Disney'): 1, ('helps', 'Disney', \"'s\"): 1, ('Disney', \"'s\", 'upcoming'): 1, (\"'s\", 'upcoming', 'streaming'): 1, ('upcoming', 'streaming', 'service'): 1, ('streaming', 'service', 'Published'): 1, ('service', 'Published', 'Thu'): 1, ('Published', 'Thu', ','): 1, ('17', '2019', '1:04'): 1, ('2019', '1:04', 'PM'): 1, ('1:04', 'PM', 'EST'): 1, ('PM', 'EST', 'Updated'): 1, ('EST', 'Updated', 'Thu'): 1, ('Updated', 'Thu', ','): 1, ('17', '2019', '1:42'): 1, ('2019', '1:42', 'PM'): 1, ('1:42', 'PM', 'EST'): 1, ('PM', 'EST', 'Tyler'): 1, ('EST', 'Tyler', 'Clifford'): 1, ('Tyler', 'Clifford', '@'): 1, ('Clifford', '@', '_TylerTheTyler_'): 1, ('@', '_TylerTheTyler_', 'Key'): 1, ('_TylerTheTyler_', 'Key', 'Points'): 1, ('Key', 'Points', 'Netflix'): 1, ('Points', 'Netflix', 'subscription'): 1, ('Netflix', 'subscription', 'price'): 1, ('subscription', 'price', 'hike'): 1, ('is', 'a', '``'): 1, ('a', '``', 'key'): 1, ('``', 'key', 'dilemma'): 1, ('key', 'dilemma', \"''\"): 1, ('dilemma', \"''\", 'that'): 1, (\"''\", 'that', 'makes'): 1, ('that', 'makes', 'future'): 1, ('makes', 'future', 'competitors'): 1, ('future', 'competitors', 'like'): 1, ('competitors', 'like', 'Disney'): 1, ('like', 'Disney', 'more'): 1, ('Disney', 'more', 'viable'): 1, ('more', 'viable', ','): 1, ('viable', ',', 'New'): 1, (',', 'New', 'Constructs'): 1, ('New', 'Constructs', 'CEO'): 1, ('Constructs', 'CEO', 'David'): 1, ('CEO', 'David', 'Trainer'): 1, ('David', 'Trainer', 'says'): 1, ('Trainer', 'says', '.'): 1})\n",
      "\n",
      "However, Aegis Capital's Victory Anthony sees the Netflix price increase as extra money to invest in more original content or pad the bottom line.\n",
      "Bigrams: Counter({('However', ','): 1, (',', 'Aegis'): 1, ('Aegis', 'Capital'): 1, ('Capital', \"'s\"): 1, (\"'s\", 'Victory'): 1, ('Victory', 'Anthony'): 1, ('Anthony', 'sees'): 1, ('sees', 'the'): 1, ('the', 'Netflix'): 1, ('Netflix', 'price'): 1, ('price', 'increase'): 1, ('increase', 'as'): 1, ('as', 'extra'): 1, ('extra', 'money'): 1, ('money', 'to'): 1, ('to', 'invest'): 1, ('invest', 'in'): 1, ('in', 'more'): 1, ('more', 'original'): 1, ('original', 'content'): 1, ('content', 'or'): 1, ('or', 'pad'): 1, ('pad', 'the'): 1, ('the', 'bottom'): 1, ('bottom', 'line'): 1, ('line', '.'): 1})\n",
      "Trigrams: Counter({('However', ',', 'Aegis'): 1, (',', 'Aegis', 'Capital'): 1, ('Aegis', 'Capital', \"'s\"): 1, ('Capital', \"'s\", 'Victory'): 1, (\"'s\", 'Victory', 'Anthony'): 1, ('Victory', 'Anthony', 'sees'): 1, ('Anthony', 'sees', 'the'): 1, ('sees', 'the', 'Netflix'): 1, ('the', 'Netflix', 'price'): 1, ('Netflix', 'price', 'increase'): 1, ('price', 'increase', 'as'): 1, ('increase', 'as', 'extra'): 1, ('as', 'extra', 'money'): 1, ('extra', 'money', 'to'): 1, ('money', 'to', 'invest'): 1, ('to', 'invest', 'in'): 1, ('invest', 'in', 'more'): 1, ('in', 'more', 'original'): 1, ('more', 'original', 'content'): 1, ('original', 'content', 'or'): 1, ('content', 'or', 'pad'): 1, ('or', 'pad', 'the'): 1, ('pad', 'the', 'bottom'): 1, ('the', 'bottom', 'line'): 1, ('bottom', 'line', '.'): 1})\n",
      "\n",
      "VIDEO 6:10 06:10 Netflix's decision to raise prices is a Catch-22, says New Constructs' David Trainer Closing Bell Disney will have a competitive advantage over Netflix when the entertainment conglomerate launches a competing video streaming platform later this year, according to Wall Street analyst David Trainer.\n",
      "Bigrams: Counter({('David', 'Trainer'): 2, ('VIDEO', '6:10'): 1, ('6:10', '06:10'): 1, ('06:10', 'Netflix'): 1, ('Netflix', \"'s\"): 1, (\"'s\", 'decision'): 1, ('decision', 'to'): 1, ('to', 'raise'): 1, ('raise', 'prices'): 1, ('prices', 'is'): 1, ('is', 'a'): 1, ('a', 'Catch-22'): 1, ('Catch-22', ','): 1, (',', 'says'): 1, ('says', 'New'): 1, ('New', 'Constructs'): 1, ('Constructs', \"'\"): 1, (\"'\", 'David'): 1, ('Trainer', 'Closing'): 1, ('Closing', 'Bell'): 1, ('Bell', 'Disney'): 1, ('Disney', 'will'): 1, ('will', 'have'): 1, ('have', 'a'): 1, ('a', 'competitive'): 1, ('competitive', 'advantage'): 1, ('advantage', 'over'): 1, ('over', 'Netflix'): 1, ('Netflix', 'when'): 1, ('when', 'the'): 1, ('the', 'entertainment'): 1, ('entertainment', 'conglomerate'): 1, ('conglomerate', 'launches'): 1, ('launches', 'a'): 1, ('a', 'competing'): 1, ('competing', 'video'): 1, ('video', 'streaming'): 1, ('streaming', 'platform'): 1, ('platform', 'later'): 1, ('later', 'this'): 1, ('this', 'year'): 1, ('year', ','): 1, (',', 'according'): 1, ('according', 'to'): 1, ('to', 'Wall'): 1, ('Wall', 'Street'): 1, ('Street', 'analyst'): 1, ('analyst', 'David'): 1, ('Trainer', '.'): 1})\n",
      "Trigrams: Counter({('VIDEO', '6:10', '06:10'): 1, ('6:10', '06:10', 'Netflix'): 1, ('06:10', 'Netflix', \"'s\"): 1, ('Netflix', \"'s\", 'decision'): 1, (\"'s\", 'decision', 'to'): 1, ('decision', 'to', 'raise'): 1, ('to', 'raise', 'prices'): 1, ('raise', 'prices', 'is'): 1, ('prices', 'is', 'a'): 1, ('is', 'a', 'Catch-22'): 1, ('a', 'Catch-22', ','): 1, ('Catch-22', ',', 'says'): 1, (',', 'says', 'New'): 1, ('says', 'New', 'Constructs'): 1, ('New', 'Constructs', \"'\"): 1, ('Constructs', \"'\", 'David'): 1, (\"'\", 'David', 'Trainer'): 1, ('David', 'Trainer', 'Closing'): 1, ('Trainer', 'Closing', 'Bell'): 1, ('Closing', 'Bell', 'Disney'): 1, ('Bell', 'Disney', 'will'): 1, ('Disney', 'will', 'have'): 1, ('will', 'have', 'a'): 1, ('have', 'a', 'competitive'): 1, ('a', 'competitive', 'advantage'): 1, ('competitive', 'advantage', 'over'): 1, ('advantage', 'over', 'Netflix'): 1, ('over', 'Netflix', 'when'): 1, ('Netflix', 'when', 'the'): 1, ('when', 'the', 'entertainment'): 1, ('the', 'entertainment', 'conglomerate'): 1, ('entertainment', 'conglomerate', 'launches'): 1, ('conglomerate', 'launches', 'a'): 1, ('launches', 'a', 'competing'): 1, ('a', 'competing', 'video'): 1, ('competing', 'video', 'streaming'): 1, ('video', 'streaming', 'platform'): 1, ('streaming', 'platform', 'later'): 1, ('platform', 'later', 'this'): 1, ('later', 'this', 'year'): 1, ('this', 'year', ','): 1, ('year', ',', 'according'): 1, (',', 'according', 'to'): 1, ('according', 'to', 'Wall'): 1, ('to', 'Wall', 'Street'): 1, ('Wall', 'Street', 'analyst'): 1, ('Street', 'analyst', 'David'): 1, ('analyst', 'David', 'Trainer'): 1, ('David', 'Trainer', '.'): 1})\n",
      "\n",
      "\"[Disney's] got the ability to merchandise, which is another way to monetize content in a way that Netflix does not have,\" Trainer said on CNBC's \"Closing Bell\" Wednesday.\n",
      "Bigrams: Counter({('``', '['): 1, ('[', 'Disney'): 1, ('Disney', \"'s\"): 1, (\"'s\", ']'): 1, (']', 'got'): 1, ('got', 'the'): 1, ('the', 'ability'): 1, ('ability', 'to'): 1, ('to', 'merchandise'): 1, ('merchandise', ','): 1, (',', 'which'): 1, ('which', 'is'): 1, ('is', 'another'): 1, ('another', 'way'): 1, ('way', 'to'): 1, ('to', 'monetize'): 1, ('monetize', 'content'): 1, ('content', 'in'): 1, ('in', 'a'): 1, ('a', 'way'): 1, ('way', 'that'): 1, ('that', 'Netflix'): 1, ('Netflix', 'does'): 1, ('does', 'not'): 1, ('not', 'have'): 1, ('have', ','): 1, (',', \"''\"): 1, (\"''\", 'Trainer'): 1, ('Trainer', 'said'): 1, ('said', 'on'): 1, ('on', 'CNBC'): 1, ('CNBC', \"'s\"): 1, (\"'s\", '``'): 1, ('``', 'Closing'): 1, ('Closing', 'Bell'): 1, ('Bell', \"''\"): 1, (\"''\", 'Wednesday'): 1, ('Wednesday', '.'): 1})\n",
      "Trigrams: Counter({('``', '[', 'Disney'): 1, ('[', 'Disney', \"'s\"): 1, ('Disney', \"'s\", ']'): 1, (\"'s\", ']', 'got'): 1, (']', 'got', 'the'): 1, ('got', 'the', 'ability'): 1, ('the', 'ability', 'to'): 1, ('ability', 'to', 'merchandise'): 1, ('to', 'merchandise', ','): 1, ('merchandise', ',', 'which'): 1, (',', 'which', 'is'): 1, ('which', 'is', 'another'): 1, ('is', 'another', 'way'): 1, ('another', 'way', 'to'): 1, ('way', 'to', 'monetize'): 1, ('to', 'monetize', 'content'): 1, ('monetize', 'content', 'in'): 1, ('content', 'in', 'a'): 1, ('in', 'a', 'way'): 1, ('a', 'way', 'that'): 1, ('way', 'that', 'Netflix'): 1, ('that', 'Netflix', 'does'): 1, ('Netflix', 'does', 'not'): 1, ('does', 'not', 'have'): 1, ('not', 'have', ','): 1, ('have', ',', \"''\"): 1, (',', \"''\", 'Trainer'): 1, (\"''\", 'Trainer', 'said'): 1, ('Trainer', 'said', 'on'): 1, ('said', 'on', 'CNBC'): 1, ('on', 'CNBC', \"'s\"): 1, ('CNBC', \"'s\", '``'): 1, (\"'s\", '``', 'Closing'): 1, ('``', 'Closing', 'Bell'): 1, ('Closing', 'Bell', \"''\"): 1, ('Bell', \"''\", 'Wednesday'): 1, (\"''\", 'Wednesday', '.'): 1})\n",
      "\n",
      "He's chief of the New Constructs research firm.\n",
      "Bigrams: Counter({('He', \"'s\"): 1, (\"'s\", 'chief'): 1, ('chief', 'of'): 1, ('of', 'the'): 1, ('the', 'New'): 1, ('New', 'Constructs'): 1, ('Constructs', 'research'): 1, ('research', 'firm'): 1, ('firm', '.'): 1})\n",
      "Trigrams: Counter({('He', \"'s\", 'chief'): 1, (\"'s\", 'chief', 'of'): 1, ('chief', 'of', 'the'): 1, ('of', 'the', 'New'): 1, ('the', 'New', 'Constructs'): 1, ('New', 'Constructs', 'research'): 1, ('Constructs', 'research', 'firm'): 1, ('research', 'firm', '.'): 1})\n",
      "\n"
     ]
    }
   ],
   "source": [
    "from collections import Counter\n",
    "for j in range(5):\n",
    "    print(sentences[j])\n",
    "    tokens = word_tokenize(sentences[j])\n",
    "    print('Bigrams:', Counter(ngrams(tokens,2)))\n",
    "    print('Trigrams:', Counter(ngrams(tokens,3)))\n",
    "    print()"
   ]
  },
  {
   "cell_type": "markdown",
   "metadata": {},
   "source": [
    "Print POS tags in the first 5 sentences"
   ]
  },
  {
   "cell_type": "code",
   "execution_count": 75,
   "metadata": {},
   "outputs": [
    {
     "name": "stdout",
     "output_type": "stream",
     "text": [
      "[('×', 'JJ'), ('LOG', 'NNP'), ('IN', 'NNP'), ('SIGN', 'NNP'), ('UP', 'NNP'), ('Keep', 'NNP'), ('Me', 'NNP'), ('Logged', 'NNP'), ('In', 'IN'), ('Skip', 'NNP'), ('Navigation', 'NNP'), ('SIGN', 'NNP'), ('IN', 'NNP'), ('Pro', 'NNP'), ('Watchlist', 'NNP'), ('Make', 'NNP'), ('It', 'PRP'), ('Select', 'NNP'), ('USA', 'NNP'), ('INTL', 'NNP'), ('Markets', 'NNP'), ('Pre-Markets', 'NNP'), ('U.S.', 'NNP'), ('Markets', 'NNP'), ('Currencies', 'NNP'), ('Cryptocurrency', 'NNP'), ('Futures', 'NNP'), ('&', 'CC'), ('Commodities', 'NNP'), ('Bonds', 'NNP'), ('Funds', 'NNP'), ('&', 'CC'), ('ETFs', 'NNP'), ('Watchlist', 'NNP'), ('Business', 'NNP'), ('Economy', 'NNP'), ('Finance', 'NNP'), ('Health', 'NNP'), ('&', 'CC'), ('Science', 'NNP'), ('Media', 'NNP'), ('Real', 'NNP'), ('Estate', 'NNP'), ('Energy', 'NNP'), ('Transportation', 'NNP'), ('Industrials', 'NNP'), ('Retail', 'NNP'), ('Wealth', 'NNP'), ('Small', 'NNP'), ('Business', 'NNP'), ('Investing', 'NNP'), ('Invest', 'NNP'), ('In', 'IN'), ('You', 'PRP'), ('Personal', 'NNP'), ('Finance', 'NNP'), ('Financial', 'NNP'), ('Advisors', 'NNPS'), ('Trading', 'NNP'), ('Nation', 'NN'), ('Options', 'NNP'), ('Action', 'NNP'), ('ETF', 'NNP'), ('Street', 'NNP'), ('Buffett', 'NNP'), ('Archive', 'NNP'), ('Earnings', 'NNP'), ('Trader', 'NNP'), ('Talk', 'NNP'), ('Tech', 'NNP'), ('Cybersecurity', 'NNP'), ('Enterprise', 'NNP'), ('Internet', 'NNP'), ('Media', 'NNP'), ('Mobile', 'NNP'), ('Social', 'NNP'), ('Media', 'NNP'), ('Venture', 'NNP'), ('Capital', 'NNP'), ('Tech', 'NNP'), ('Guide', 'NNP'), ('Politics', 'NNP'), ('White', 'NNP'), ('House', 'NNP'), ('Policy', 'NN'), ('Defense', 'NNP'), ('Congress', 'NNP'), ('2020', 'CD'), ('Elections', 'NNP'), ('CNBC', 'NNP'), ('TV', 'NNP'), ('Live', 'NNP'), ('TV', 'NN'), ('Live', 'NNP'), ('Audio', 'NNP'), ('Latest', 'NNP'), ('Video', 'NNP'), ('Top', 'NNP'), ('Video', 'NNP'), ('CEO', 'NNP'), ('Interviews', 'NNP'), ('Business', 'NNP'), ('Day', 'NNP'), ('Shows', 'NNP'), ('Primetime', 'NNP'), ('Shows', 'NNP'), ('CNBC', 'NNP'), ('World', 'NNP'), ('Digital', 'NNP'), ('Originals', 'NNP'), ('Full', 'NNP'), ('Episodes', 'NNP'), ('Menu', 'NNP'), ('SEARCH', 'NNP'), ('QUOTES', 'NNP'), ('Markets', 'NNP'), ('Pre-Markets', 'NNP'), ('U.S.', 'NNP'), ('Markets', 'NNP'), ('Currencies', 'NNP'), ('Cryptocurrency', 'NNP'), ('Futures', 'NNP'), ('&', 'CC'), ('Commodities', 'NNP'), ('Bonds', 'NNP'), ('Funds', 'NNP'), ('&', 'CC'), ('ETFs', 'NNP'), ('Watchlist', 'NNP'), ('Business', 'NNP'), ('Economy', 'NNP'), ('Finance', 'NNP'), ('Health', 'NNP'), ('&', 'CC'), ('Science', 'NNP'), ('Media', 'NNP'), ('Real', 'NNP'), ('Estate', 'NNP'), ('Energy', 'NNP'), ('Transportation', 'NNP'), ('Industrials', 'NNP'), ('Retail', 'NNP'), ('Wealth', 'NNP'), ('Small', 'NNP'), ('Business', 'NNP'), ('Investing', 'NNP'), ('Invest', 'NNP'), ('In', 'IN'), ('You', 'PRP'), ('Personal', 'NNP'), ('Finance', 'NNP'), ('Financial', 'NNP'), ('Advisors', 'NNPS'), ('Trading', 'NNP'), ('Nation', 'NN'), ('Options', 'NNP'), ('Action', 'NNP'), ('ETF', 'NNP'), ('Street', 'NNP'), ('Buffett', 'NNP'), ('Archive', 'NNP'), ('Earnings', 'NNP'), ('Trader', 'NNP'), ('Talk', 'NNP'), ('Tech', 'NNP'), ('Cybersecurity', 'NNP'), ('Enterprise', 'NNP'), ('Internet', 'NNP'), ('Media', 'NNP'), ('Mobile', 'NNP'), ('Social', 'NNP'), ('Media', 'NNP'), ('Venture', 'NNP'), ('Capital', 'NNP'), ('Tech', 'NNP'), ('Guide', 'NNP'), ('Politics', 'NNP'), ('White', 'NNP'), ('House', 'NNP'), ('Policy', 'NN'), ('Defense', 'NNP'), ('Congress', 'NNP'), ('2020', 'CD'), ('Elections', 'NNP'), ('CNBC', 'NNP'), ('TV', 'NNP'), ('Live', 'NNP'), ('TV', 'NN'), ('Live', 'NNP'), ('Audio', 'NNP'), ('Latest', 'NNP'), ('Video', 'NNP'), ('Top', 'NNP'), ('Video', 'NNP'), ('CEO', 'NNP'), ('Interviews', 'NNP'), ('Business', 'NNP'), ('Day', 'NNP'), ('Shows', 'NNP'), ('Primetime', 'NNP'), ('Shows', 'NNP'), ('CNBC', 'NNP'), ('World', 'NNP'), ('Digital', 'NNP'), ('Originals', 'NNP'), ('Full', 'NNP'), ('Episodes', 'NNP'), ('Menu', 'NNP'), ('Tech', 'NNP'), ('Netflix', 'NNP'), (\"'s\", 'POS'), ('price', 'NN'), ('hike', 'NN'), ('is', 'VBZ'), ('a', 'DT'), (\"'Catch-22\", 'JJ'), (\"'\", 'POS'), ('that', 'WDT'), ('actually', 'RB'), ('helps', 'VBZ'), ('Disney', 'NNP'), (\"'s\", 'POS'), ('upcoming', 'VBG'), ('streaming', 'VBG'), ('service', 'NN'), ('Published', 'NNP'), ('Thu', 'NNP'), (',', ','), ('Jan', 'NNP'), ('17', 'CD'), ('2019', 'CD'), ('1:04', 'CD'), ('PM', 'NNP'), ('EST', 'NNP'), ('Updated', 'NNP'), ('Thu', 'NNP'), (',', ','), ('Jan', 'NNP'), ('17', 'CD'), ('2019', 'CD'), ('1:42', 'CD'), ('PM', 'NNP'), ('EST', 'NNP'), ('Tyler', 'NNP'), ('Clifford', 'NNP'), ('@', 'NNP'), ('_TylerTheTyler_', 'NNP'), ('Key', 'NNP'), ('Points', 'NNP'), ('Netflix', 'NNP'), ('subscription', 'NN'), ('price', 'NN'), ('hike', 'NN'), ('is', 'VBZ'), ('a', 'DT'), ('``', '``'), ('key', 'JJ'), ('dilemma', 'NN'), (\"''\", \"''\"), ('that', 'WDT'), ('makes', 'VBZ'), ('future', 'JJ'), ('competitors', 'NNS'), ('like', 'IN'), ('Disney', 'NNP'), ('more', 'RBR'), ('viable', 'JJ'), (',', ','), ('New', 'NNP'), ('Constructs', 'NNP'), ('CEO', 'NNP'), ('David', 'NNP'), ('Trainer', 'NNP'), ('says', 'VBZ'), ('.', '.')]\n",
      "[('However', 'RB'), (',', ','), ('Aegis', 'NNP'), ('Capital', 'NNP'), (\"'s\", 'POS'), ('Victory', 'NNP'), ('Anthony', 'NNP'), ('sees', 'VBZ'), ('the', 'DT'), ('Netflix', 'NNP'), ('price', 'NN'), ('increase', 'NN'), ('as', 'IN'), ('extra', 'JJ'), ('money', 'NN'), ('to', 'TO'), ('invest', 'VB'), ('in', 'IN'), ('more', 'RBR'), ('original', 'JJ'), ('content', 'NN'), ('or', 'CC'), ('pad', 'VB'), ('the', 'DT'), ('bottom', 'JJ'), ('line', 'NN'), ('.', '.')]\n",
      "[('VIDEO', 'NNP'), ('6:10', 'CD'), ('06:10', 'CD'), ('Netflix', 'NNP'), (\"'s\", 'POS'), ('decision', 'NN'), ('to', 'TO'), ('raise', 'VB'), ('prices', 'NNS'), ('is', 'VBZ'), ('a', 'DT'), ('Catch-22', 'NNP'), (',', ','), ('says', 'VBZ'), ('New', 'NNP'), ('Constructs', 'NNP'), (\"'\", 'POS'), ('David', 'NNP'), ('Trainer', 'NNP'), ('Closing', 'NNP'), ('Bell', 'NNP'), ('Disney', 'NNP'), ('will', 'MD'), ('have', 'VB'), ('a', 'DT'), ('competitive', 'JJ'), ('advantage', 'NN'), ('over', 'IN'), ('Netflix', 'NNP'), ('when', 'WRB'), ('the', 'DT'), ('entertainment', 'NN'), ('conglomerate', 'NN'), ('launches', 'VBZ'), ('a', 'DT'), ('competing', 'VBG'), ('video', 'NN'), ('streaming', 'VBG'), ('platform', 'NN'), ('later', 'RBR'), ('this', 'DT'), ('year', 'NN'), (',', ','), ('according', 'VBG'), ('to', 'TO'), ('Wall', 'NNP'), ('Street', 'NNP'), ('analyst', 'NN'), ('David', 'NNP'), ('Trainer', 'NNP'), ('.', '.')]\n",
      "[('``', '``'), ('[', 'JJ'), ('Disney', 'NNP'), (\"'s\", 'POS'), (']', 'NNP'), ('got', 'VBD'), ('the', 'DT'), ('ability', 'NN'), ('to', 'TO'), ('merchandise', 'NN'), (',', ','), ('which', 'WDT'), ('is', 'VBZ'), ('another', 'DT'), ('way', 'NN'), ('to', 'TO'), ('monetize', 'VB'), ('content', 'NN'), ('in', 'IN'), ('a', 'DT'), ('way', 'NN'), ('that', 'IN'), ('Netflix', 'NNP'), ('does', 'VBZ'), ('not', 'RB'), ('have', 'VB'), (',', ','), (\"''\", \"''\"), ('Trainer', 'NNP'), ('said', 'VBD'), ('on', 'IN'), ('CNBC', 'NNP'), (\"'s\", 'POS'), ('``', '``'), ('Closing', 'NNP'), ('Bell', 'NNP'), (\"''\", \"''\"), ('Wednesday', 'NNP'), ('.', '.')]\n",
      "[('He', 'PRP'), (\"'s\", 'VBZ'), ('chief', 'NN'), ('of', 'IN'), ('the', 'DT'), ('New', 'NNP'), ('Constructs', 'NNP'), ('research', 'NN'), ('firm', 'NN'), ('.', '.')]\n"
     ]
    },
    {
     "name": "stderr",
     "output_type": "stream",
     "text": [
      "[nltk_data] Downloading package averaged_perceptron_tagger to\n",
      "[nltk_data]     C:\\Users\\sherr\\AppData\\Roaming\\nltk_data...\n",
      "[nltk_data]   Package averaged_perceptron_tagger is already up-to-\n",
      "[nltk_data]       date!\n"
     ]
    }
   ],
   "source": [
    "import nltk\n",
    "nltk.download('averaged_perceptron_tagger')\n",
    "for k in range(5):\n",
    "    tokens = word_tokenize(sentences[k])\n",
    "    sentence_pos = pos_tag(tokens)\n",
    "    print(sentence_pos)"
   ]
  },
  {
   "cell_type": "code",
   "execution_count": null,
   "metadata": {},
   "outputs": [],
   "source": []
  }
 ],
 "metadata": {
  "kernelspec": {
   "display_name": "Python 3",
   "language": "python",
   "name": "python3"
  },
  "language_info": {
   "codemirror_mode": {
    "name": "ipython",
    "version": 3
   },
   "file_extension": ".py",
   "mimetype": "text/x-python",
   "name": "python",
   "nbconvert_exporter": "python",
   "pygments_lexer": "ipython3",
   "version": "3.7.3"
  }
 },
 "nbformat": 4,
 "nbformat_minor": 2
}
